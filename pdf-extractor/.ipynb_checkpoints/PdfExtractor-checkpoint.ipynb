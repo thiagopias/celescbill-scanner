{
 "cells": [
  {
   "cell_type": "code",
   "execution_count": 43,
   "id": "673c19af-d576-4415-812e-dfdcc734044d",
   "metadata": {
    "scrolled": true
   },
   "outputs": [],
   "source": [
    "import tabula\n",
    "import PyPDF2\n",
    "import pandas as pd\n",
    "import os\n",
    "from datetime import datetime"
   ]
  },
  {
   "cell_type": "code",
   "execution_count": 21,
   "id": "a0dfc670-f8f0-4f98-a61a-b15b339cf6e2",
   "metadata": {},
   "outputs": [],
   "source": [
    "pd.set_option('display.max_rows', None)\n",
    "pd.set_option('display.max_columns', None)\n",
    "pd.set_option('display.max_colwidth', None)\n",
    "#pdfFile = open('celesc.pdf','rb')\n",
    "#pdf = PyPDF2.PdfReader(pdfFile)\n"
   ]
  },
  {
   "cell_type": "code",
   "execution_count": 22,
   "id": "4c7022f4-6d1f-4857-9800-dc3fe70cfa21",
   "metadata": {},
   "outputs": [],
   "source": [
    "reader = PyPDF2.PdfReader('celesc-2023-09-02.pdf')\n",
    "page = reader.pages[0]\n",
    "txt = page.extract_text()\n",
    "lista = txt.split('\\n')\n",
    "df = pd.DataFrame(lista)"
   ]
  },
  {
   "cell_type": "code",
   "execution_count": 23,
   "id": "e3fa63a6-f56c-485e-bb12-18cd8a623aac",
   "metadata": {},
   "outputs": [],
   "source": [
    "reader = PyPDF2.PdfReader('celesc.pdf')\n",
    "page = reader.pages[0]\n",
    "txt = page.extract_text()\n",
    "lista = txt.split('\\n')\n",
    "df2 = pd.DataFrame(lista)"
   ]
  },
  {
   "cell_type": "code",
   "execution_count": 25,
   "id": "b999fd30-4444-4277-b408-c2949b9fdebf",
   "metadata": {},
   "outputs": [],
   "source": [
    "string = \"EMISSÃO:\"\n",
    "df = df.loc[df[0].str.contains(string)]\n",
    "df2 = df2.loc[df2[0].str.contains(string)]"
   ]
  },
  {
   "cell_type": "code",
   "execution_count": 29,
   "id": "503f94d3-a379-41f9-84ce-5998c15245b1",
   "metadata": {},
   "outputs": [
    {
     "data": {
      "text/html": [
       "<div>\n",
       "<style scoped>\n",
       "    .dataframe tbody tr th:only-of-type {\n",
       "        vertical-align: middle;\n",
       "    }\n",
       "\n",
       "    .dataframe tbody tr th {\n",
       "        vertical-align: top;\n",
       "    }\n",
       "\n",
       "    .dataframe thead th {\n",
       "        text-align: right;\n",
       "    }\n",
       "</style>\n",
       "<table border=\"1\" class=\"dataframe\">\n",
       "  <thead>\n",
       "    <tr style=\"text-align: right;\">\n",
       "      <th></th>\n",
       "      <th>0</th>\n",
       "    </tr>\n",
       "  </thead>\n",
       "  <tbody>\n",
       "    <tr>\n",
       "      <th>4</th>\n",
       "      <td>EMISSÃO: 18/08/2023 APRES.: 22/08/2023 NOTA FISCAL/CONTA DE ENERGIA ELÉTRICA - SÉRIE ÚNICA: 000.223.343.156 - FAT-01-202310606714882-95 REF.:08/2023</td>\n",
       "    </tr>\n",
       "  </tbody>\n",
       "</table>\n",
       "</div>"
      ],
      "text/plain": [
       "                                                                                                                                                      0\n",
       "4  EMISSÃO: 18/08/2023 APRES.: 22/08/2023 NOTA FISCAL/CONTA DE ENERGIA ELÉTRICA - SÉRIE ÚNICA: 000.223.343.156 - FAT-01-202310606714882-95 REF.:08/2023"
      ]
     },
     "execution_count": 29,
     "metadata": {},
     "output_type": "execute_result"
    }
   ],
   "source": [
    "df"
   ]
  },
  {
   "cell_type": "code",
   "execution_count": 49,
   "id": "3f8984fb-18d1-40f6-89ca-204a43e6cf1e",
   "metadata": {
    "scrolled": true
   },
   "outputs": [
    {
     "data": {
      "text/plain": [
       "NotImplemented"
      ]
     },
     "execution_count": 49,
     "metadata": {},
     "output_type": "execute_result"
    }
   ],
   "source": [
    "index = df.loc[df[0].str.contains(string)]\n",
    "line = index.values[0][0]\n",
    "\n",
    "date_string = line.split(\":\")[1].split(\" \")[1] #'18/08/2023'\n",
    "date_object = datetime.strptime(date_string, '%d/%m/%Y').date()\n"
   ]
  },
  {
   "cell_type": "code",
   "execution_count": 27,
   "id": "b4b9f77f-20a8-418b-b337-ce56d641427c",
   "metadata": {},
   "outputs": [
    {
     "data": {
      "text/html": [
       "<div>\n",
       "<style scoped>\n",
       "    .dataframe tbody tr th:only-of-type {\n",
       "        vertical-align: middle;\n",
       "    }\n",
       "\n",
       "    .dataframe tbody tr th {\n",
       "        vertical-align: top;\n",
       "    }\n",
       "\n",
       "    .dataframe thead th {\n",
       "        text-align: right;\n",
       "    }\n",
       "</style>\n",
       "<table border=\"1\" class=\"dataframe\">\n",
       "  <thead>\n",
       "    <tr style=\"text-align: right;\">\n",
       "      <th></th>\n",
       "      <th>0</th>\n",
       "    </tr>\n",
       "  </thead>\n",
       "  <tbody>\n",
       "    <tr>\n",
       "      <th>6</th>\n",
       "      <td>EMISSÃO: 16/02/2024 APRES.: 19/02/2024 NOTA FISCAL/CONTA DE ENERGIA ELÉTRICA - SÉRIE ÚNICA: 000.249.514.290 - FAT-01-202411136312055-5 REF.:02/2024</td>\n",
       "    </tr>\n",
       "  </tbody>\n",
       "</table>\n",
       "</div>"
      ],
      "text/plain": [
       "                                                                                                                                                     0\n",
       "6  EMISSÃO: 16/02/2024 APRES.: 19/02/2024 NOTA FISCAL/CONTA DE ENERGIA ELÉTRICA - SÉRIE ÚNICA: 000.249.514.290 - FAT-01-202411136312055-5 REF.:02/2024"
      ]
     },
     "execution_count": 27,
     "metadata": {},
     "output_type": "execute_result"
    }
   ],
   "source": [
    "df2"
   ]
  },
  {
   "cell_type": "code",
   "execution_count": 9,
   "id": "5f5be36c-3937-4367-a7be-108df0fb9492",
   "metadata": {},
   "outputs": [
    {
     "data": {
      "text/html": [
       "<div>\n",
       "<style scoped>\n",
       "    .dataframe tbody tr th:only-of-type {\n",
       "        vertical-align: middle;\n",
       "    }\n",
       "\n",
       "    .dataframe tbody tr th {\n",
       "        vertical-align: top;\n",
       "    }\n",
       "\n",
       "    .dataframe thead th {\n",
       "        text-align: right;\n",
       "    }\n",
       "</style>\n",
       "<table border=\"1\" class=\"dataframe\">\n",
       "  <thead>\n",
       "    <tr style=\"text-align: right;\">\n",
       "      <th></th>\n",
       "      <th>0</th>\n",
       "    </tr>\n",
       "  </thead>\n",
       "  <tbody>\n",
       "    <tr>\n",
       "      <th>61</th>\n",
       "      <td>LIGUE</td>\n",
       "    </tr>\n",
       "    <tr>\n",
       "      <th>62</th>\n",
       "      <td>0800 048 0120CONSUMO TOTAL FATURADO</td>\n",
       "    </tr>\n",
       "    <tr>\n",
       "      <th>63</th>\n",
       "      <td>1.109 kWh</td>\n",
       "    </tr>\n",
       "    <tr>\n",
       "      <th>64</th>\n",
       "      <td>VALOR ATÉ O VENCIMENTO</td>\n",
       "    </tr>\n",
       "    <tr>\n",
       "      <th>65</th>\n",
       "      <td>R$ 488,64</td>\n",
       "    </tr>\n",
       "    <tr>\n",
       "      <th>66</th>\n",
       "      <td>Mensagens:</td>\n",
       "    </tr>\n",
       "    <tr>\n",
       "      <th>67</th>\n",
       "      <td>Demonstrativos de Saldos em kWh referente a Mini e Micro Geração, conforme REN N¿</td>\n",
       "    </tr>\n",
       "    <tr>\n",
       "      <th>68</th>\n",
       "      <td>482/2012. Saldo Mês no (TP) Todos os Períodos 0, Saldo Acumulado no (TP) Todos os</td>\n",
       "    </tr>\n",
       "    <tr>\n",
       "      <th>69</th>\n",
       "      <td>Períodos 0, Saldo a Expirar Próximo Mês no (TP) Todos os Períodos 0.Dados do Faturamento Faturado Tarifa (R$) Valor (R$)</td>\n",
       "    </tr>\n",
       "    <tr>\n",
       "      <th>70</th>\n",
       "      <td>Subtotal (R$)</td>\n",
       "    </tr>\n",
       "    <tr>\n",
       "      <th>71</th>\n",
       "      <td>Lançamentos e Serviços</td>\n",
       "    </tr>\n",
       "    <tr>\n",
       "      <th>72</th>\n",
       "      <td>Subtotal (R$)Consumo Tusd</td>\n",
       "    </tr>\n",
       "    <tr>\n",
       "      <th>73</th>\n",
       "      <td>Consumo Tusd</td>\n",
       "    </tr>\n",
       "    <tr>\n",
       "      <th>74</th>\n",
       "      <td>Consumo Te</td>\n",
       "    </tr>\n",
       "    <tr>\n",
       "      <th>75</th>\n",
       "      <td>Consumo Te</td>\n",
       "    </tr>\n",
       "    <tr>\n",
       "      <th>76</th>\n",
       "      <td>Energia Injetada Tusd</td>\n",
       "    </tr>\n",
       "    <tr>\n",
       "      <th>77</th>\n",
       "      <td>Energia Injetada Tusd</td>\n",
       "    </tr>\n",
       "    <tr>\n",
       "      <th>78</th>\n",
       "      <td>Energia Injetada Te</td>\n",
       "    </tr>\n",
       "    <tr>\n",
       "      <th>79</th>\n",
       "      <td>Energia Injetada Te</td>\n",
       "    </tr>\n",
       "    <tr>\n",
       "      <th>80</th>\n",
       "      <td>Cosip Municipal150</td>\n",
       "    </tr>\n",
       "    <tr>\n",
       "      <th>81</th>\n",
       "      <td>959</td>\n",
       "    </tr>\n",
       "    <tr>\n",
       "      <th>82</th>\n",
       "      <td>150</td>\n",
       "    </tr>\n",
       "    <tr>\n",
       "      <th>83</th>\n",
       "      <td>959</td>\n",
       "    </tr>\n",
       "    <tr>\n",
       "      <th>84</th>\n",
       "      <td>-150</td>\n",
       "    </tr>\n",
       "    <tr>\n",
       "      <th>85</th>\n",
       "      <td>-432</td>\n",
       "    </tr>\n",
       "    <tr>\n",
       "      <th>86</th>\n",
       "      <td>-150</td>\n",
       "    </tr>\n",
       "    <tr>\n",
       "      <th>87</th>\n",
       "      <td>-4320,369000</td>\n",
       "    </tr>\n",
       "    <tr>\n",
       "      <th>88</th>\n",
       "      <td>0,391345</td>\n",
       "    </tr>\n",
       "    <tr>\n",
       "      <th>89</th>\n",
       "      <td>0,359400</td>\n",
       "    </tr>\n",
       "    <tr>\n",
       "      <th>90</th>\n",
       "      <td>0,381168</td>\n",
       "    </tr>\n",
       "    <tr>\n",
       "      <th>91</th>\n",
       "      <td>0,324733</td>\n",
       "    </tr>\n",
       "    <tr>\n",
       "      <th>92</th>\n",
       "      <td>0,324815</td>\n",
       "    </tr>\n",
       "    <tr>\n",
       "      <th>93</th>\n",
       "      <td>0,359400</td>\n",
       "    </tr>\n",
       "    <tr>\n",
       "      <th>94</th>\n",
       "      <td>0,38115755,35</td>\n",
       "    </tr>\n",
       "    <tr>\n",
       "      <th>95</th>\n",
       "      <td>375,30</td>\n",
       "    </tr>\n",
       "    <tr>\n",
       "      <th>96</th>\n",
       "      <td>53,91</td>\n",
       "    </tr>\n",
       "    <tr>\n",
       "      <th>97</th>\n",
       "      <td>365,54</td>\n",
       "    </tr>\n",
       "    <tr>\n",
       "      <th>98</th>\n",
       "      <td>-48,71</td>\n",
       "    </tr>\n",
       "    <tr>\n",
       "      <th>99</th>\n",
       "      <td>-140,32</td>\n",
       "    </tr>\n",
       "  </tbody>\n",
       "</table>\n",
       "</div>"
      ],
      "text/plain": [
       "                                                                                                                           0\n",
       "61                                                                                                                     LIGUE\n",
       "62                                                                                       0800 048 0120CONSUMO TOTAL FATURADO\n",
       "63                                                                                                                 1.109 kWh\n",
       "64                                                                                                    VALOR ATÉ O VENCIMENTO\n",
       "65                                                                                                                 R$ 488,64\n",
       "66                                                                                                                Mensagens:\n",
       "67                                         Demonstrativos de Saldos em kWh referente a Mini e Micro Geração, conforme REN N¿\n",
       "68                                         482/2012. Saldo Mês no (TP) Todos os Períodos 0, Saldo Acumulado no (TP) Todos os\n",
       "69  Períodos 0, Saldo a Expirar Próximo Mês no (TP) Todos os Períodos 0.Dados do Faturamento Faturado Tarifa (R$) Valor (R$)\n",
       "70                                                                                                             Subtotal (R$)\n",
       "71                                                                                                    Lançamentos e Serviços\n",
       "72                                                                                                 Subtotal (R$)Consumo Tusd\n",
       "73                                                                                                              Consumo Tusd\n",
       "74                                                                                                                Consumo Te\n",
       "75                                                                                                                Consumo Te\n",
       "76                                                                                                     Energia Injetada Tusd\n",
       "77                                                                                                     Energia Injetada Tusd\n",
       "78                                                                                                       Energia Injetada Te\n",
       "79                                                                                                       Energia Injetada Te\n",
       "80                                                                                                        Cosip Municipal150\n",
       "81                                                                                                                       959\n",
       "82                                                                                                                       150\n",
       "83                                                                                                                       959\n",
       "84                                                                                                                      -150\n",
       "85                                                                                                                      -432\n",
       "86                                                                                                                      -150\n",
       "87                                                                                                              -4320,369000\n",
       "88                                                                                                                  0,391345\n",
       "89                                                                                                                  0,359400\n",
       "90                                                                                                                  0,381168\n",
       "91                                                                                                                  0,324733\n",
       "92                                                                                                                  0,324815\n",
       "93                                                                                                                  0,359400\n",
       "94                                                                                                             0,38115755,35\n",
       "95                                                                                                                    375,30\n",
       "96                                                                                                                     53,91\n",
       "97                                                                                                                    365,54\n",
       "98                                                                                                                    -48,71\n",
       "99                                                                                                                   -140,32"
      ]
     },
     "execution_count": 9,
     "metadata": {},
     "output_type": "execute_result"
    }
   ],
   "source": [
    "df[(df.index >60) & (df.index <100)] \n"
   ]
  },
  {
   "cell_type": "code",
   "execution_count": 10,
   "id": "a1a5ae1a-8d56-496a-a380-1cf8c0769eff",
   "metadata": {},
   "outputs": [
    {
     "data": {
      "text/plain": [
       "64"
      ]
     },
     "execution_count": 10,
     "metadata": {},
     "output_type": "execute_result"
    }
   ],
   "source": [
    "df.loc[df[0].str.contains(\"VALOR ATÉ O VENCIMENTO\")].index.values[0]"
   ]
  },
  {
   "cell_type": "code",
   "execution_count": 43,
   "id": "16c56f3e-58ce-4dc4-9f78-5c1851bb3a80",
   "metadata": {},
   "outputs": [
    {
     "data": {
      "text/html": [
       "<div>\n",
       "<style scoped>\n",
       "    .dataframe tbody tr th:only-of-type {\n",
       "        vertical-align: middle;\n",
       "    }\n",
       "\n",
       "    .dataframe tbody tr th {\n",
       "        vertical-align: top;\n",
       "    }\n",
       "\n",
       "    .dataframe thead th {\n",
       "        text-align: right;\n",
       "    }\n",
       "</style>\n",
       "<table border=\"1\" class=\"dataframe\">\n",
       "  <thead>\n",
       "    <tr style=\"text-align: right;\">\n",
       "      <th></th>\n",
       "      <th>0</th>\n",
       "    </tr>\n",
       "  </thead>\n",
       "  <tbody>\n",
       "    <tr>\n",
       "      <th>65</th>\n",
       "      <td>R$ 429,17</td>\n",
       "    </tr>\n",
       "  </tbody>\n",
       "</table>\n",
       "</div>"
      ],
      "text/plain": [
       "            0\n",
       "65  R$ 429,17"
      ]
     },
     "execution_count": 43,
     "metadata": {},
     "output_type": "execute_result"
    }
   ],
   "source": [
    "df[df.index == 64+1]"
   ]
  },
  {
   "cell_type": "code",
   "execution_count": null,
   "id": "e3ec986c-a5d8-4e74-be3a-ac1063c91d0a",
   "metadata": {},
   "outputs": [],
   "source": [
    "class CelescBillPdfDataExtractor():\n",
    "    __init__(this, pdfFilePath: str)"
   ]
  }
 ],
 "metadata": {
  "kernelspec": {
   "display_name": "Python 3 (ipykernel)",
   "language": "python",
   "name": "python3"
  },
  "language_info": {
   "codemirror_mode": {
    "name": "ipython",
    "version": 3
   },
   "file_extension": ".py",
   "mimetype": "text/x-python",
   "name": "python",
   "nbconvert_exporter": "python",
   "pygments_lexer": "ipython3",
   "version": "3.11.4"
  }
 },
 "nbformat": 4,
 "nbformat_minor": 5
}
