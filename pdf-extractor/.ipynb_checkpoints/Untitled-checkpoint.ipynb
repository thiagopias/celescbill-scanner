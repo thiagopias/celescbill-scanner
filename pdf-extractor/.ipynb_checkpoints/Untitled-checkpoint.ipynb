{
 "cells": [
  {
   "cell_type": "code",
   "execution_count": 28,
   "id": "673c19af-d576-4415-812e-dfdcc734044d",
   "metadata": {
    "scrolled": true
   },
   "outputs": [],
   "source": [
    "import tabula\n",
    "import PyPDF2"
   ]
  },
  {
   "cell_type": "code",
   "execution_count": 43,
   "id": "a0dfc670-f8f0-4f98-a61a-b15b339cf6e2",
   "metadata": {},
   "outputs": [
    {
     "ename": "NameError",
     "evalue": "name 'PdfReader' is not defined",
     "output_type": "error",
     "traceback": [
      "\u001b[0;31m---------------------------------------------------------------------------\u001b[0m",
      "\u001b[0;31mNameError\u001b[0m                                 Traceback (most recent call last)",
      "Cell \u001b[0;32mIn[43], line 6\u001b[0m\n\u001b[1;32m      2\u001b[0m pdf \u001b[38;5;241m=\u001b[39m PyPDF2\u001b[38;5;241m.\u001b[39mPdfReader(pdfFile)\n\u001b[1;32m      5\u001b[0m reader \u001b[38;5;241m=\u001b[39m PyPDF2\u001b[38;5;241m.\u001b[39mPdfReader(\u001b[38;5;124m'\u001b[39m\u001b[38;5;124mcelesc.pdf\u001b[39m\u001b[38;5;124m'\u001b[39m)\n\u001b[0;32m----> 6\u001b[0m reader \u001b[38;5;241m=\u001b[39m \u001b[43mPdfReader\u001b[49m(\u001b[38;5;124m\"\u001b[39m\u001b[38;5;124mexample.pdf\u001b[39m\u001b[38;5;124m\"\u001b[39m)\n\u001b[1;32m      7\u001b[0m page \u001b[38;5;241m=\u001b[39m reader\u001b[38;5;241m.\u001b[39mpages[\u001b[38;5;241m0\u001b[39m]\n\u001b[1;32m      8\u001b[0m \u001b[38;5;28mprint\u001b[39m(page\u001b[38;5;241m.\u001b[39mextract_text())\n",
      "\u001b[0;31mNameError\u001b[0m: name 'PdfReader' is not defined"
     ]
    }
   ],
   "source": [
    "pdfFile = open('celesc.pdf','rb')\n",
    "pdf = PyPDF2.PdfReader(pdfFile)\n",
    "\n",
    "\n",
    "reader = PyPDF2.PdfReader('celesc.pdf')\n",
    "page = reader.pages[0]\n",
    "print(page.extract_text())"
   ]
  },
  {
   "cell_type": "code",
   "execution_count": 40,
   "id": "0bbad63e-0910-43a6-8252-235483473312",
   "metadata": {},
   "outputs": [],
   "source": [
    "page1= pdf.pages[0]"
   ]
  },
  {
   "cell_type": "code",
   "execution_count": 41,
   "id": "4562e513-6e12-4542-a6c1-1667d45b4bc8",
   "metadata": {},
   "outputs": [
    {
     "data": {
      "text/plain": [
       "'Segunda Via\\nSegunda Via\\nSegunda ViaCelesc Distribuicao S.A\\nAv Itamarati, 160 -  - Florianopolis\\nCNPJ: 08.336.783/0001-90 Insc.Est.: 255266626Conta de\\nEnergia Elétrica\\nEMISSÃO: 16/02/2024 APRES.: 19/02/2024 NOTA FISCAL/CONTA DE ENERGIA ELÉTRICA - SÉRIE ÚNICA: 000.249.514.290 - FAT-01-202411136312055-5 REF.:02/2024\\n............................................................................................................................................................................................................................THIAGO RAMOS PIAS\\nCPF 039.209.749-48\\nSV HELEODORO JOAO FLORINDO, 125\\nFS - BARRA DA LAGOA - FNS - FLORIANOPOLIS - SC - 88061-415\\nClassificação: RESIDENCIAL / CONVENCIONAL / TRIFASICO\\nTensão nominal ou contratada (V): 220 / 380\\nLimites adequados de tensão (V): 202 a 231\\nGrupo de Tensão: B Tipo de Tarifa: Convencional\\nDADOS DA MEDIÇÃO\\nEquipamento: RG 4069681\\nUnidade de medida: kWh\\nOrigem da leitura atual: LIDA\\nData da leitura anterior: 12/01/2024\\nData da leitura atual: 14/02/2024\\nData da próxima leitura: 16/03/2024\\nNúmero de dias faturados: 33\\nLeitura atual: 24739\\nLeitura anterior: 23332\\nLeitura atual GTP: 14887\\nLeitura anterior GTP: 14089\\nConstante de faturamento: 1,00\\nConsumo medido no mês: 1407\\nConsumo faturado no mês: 1407\\nFator de potência:\\nHISTÓRICO DE CONSUMO DE ENERGIA ELÉTRICA - kWh\\nFev/2023\\n1391Mar/2023\\n1404Abr/2023\\n1425Mai/2023\\n1167Jun/2023\\n1205Jul/2023\\n1015Ago/2023\\n1023Set/2023\\n829Out/2023\\n1246Nov/2023\\n1064Dez/2023\\n1109Jan/2024\\n1229\\nHISTÓRICO DE CONSUMO DE ENERGIA ELÉTRICA - kWh - GTP\\nFev/2023\\n907Mar/2023\\n705Abr/2023\\n891Mai/2023\\n709Jun/2023\\n539Jul/2023\\n454Ago/2023\\n567Set/2023\\n647Out/2023\\n571Nov/2023\\n618Dez/2023\\n582Jan/2024\\n886Nº DA UNIDADE\\nCONSUMIDORA\\n41054204VENCIMENTO\\n02/03/2024\\nATENDIMENTO AO CLIENTE\\nLIGUE\\n0800 048 0120CONSUMO TOTAL FATURADO\\n1.407 kWh\\nVALOR ATÉ O VENCIMENTO\\nR$ 587,75\\nMensagens:\\nDemonstrativos de Saldos em kWh referente a Mini e Micro Geração, conforme REN N¿\\n482/2012. Saldo Mês no (TP) Todos os Períodos 0, Saldo Acumulado no (TP) Todos os\\nPeríodos 0, Saldo a Expirar Próximo Mês no (TP) Todos os Períodos 0.\\nESTA UNIDADE CONSUMIDORA ESTA SUJEITA A SUSPENSAO DE FORNECIMENTODados do Faturamento Faturado Tarifa (R$) Valor (R$)\\nSubtotal (R$)\\nLançamentos e Serviços\\nSubtotal (R$)Consumo Tusd\\nConsumo Tusd\\nConsumo Te\\nConsumo Te\\nEnergia Injetada Tusd\\nEnergia Injetada Tusd\\nEnergia Injetada Te\\nEnergia Injetada Te\\nCorrecao Monetaria por Atraso 12/2023\\nCorrecao Monetaria por Atraso 01/2024\\nJuros Conta Anterior 01/2024\\nJuros Conta Anterior 12/2023\\nMulta Conta Anterior 12/2023\\nMulta Conta Anterior 01/2024\\nCosip Municipal150\\n1.257\\n150\\n1.257\\n-150\\n-648\\n-150\\n-6480,361533\\n0,383421\\n0,352067\\n0,373437\\n0,318200\\n0,318256\\n0,352067\\n0,37344154,23\\n481,96\\n52,81\\n469,41\\n-47,73\\n-206,23\\n-52,81\\n-241,99\\n3,23\\n0,53\\n1,24\\n6,38\\n8,85\\n6,21\\n51,66509,65\\n78,10\\nComposição do Preço em R$ (Art. 31, Res. 166/05):\\nDISTRIBUICAO\\n173,32ENC. SETORIAIS\\n86,82ENERGIA\\n65,82TRANSMISSAO\\n35,14TRIBUTOS\\n148,55Soma Demonstr.\\n509,65\\nINCIDIRÃO SOBRE A CONTA PAGA APÓS O VENCIMENTO MULTA DE 2%, JUROS DE\\nMORA DE 0,0333% AO DIA (CONF. LEI 10.438/02) E ATUALIZAÇÃO MONETÁRIA COM\\nBASE NO IPCA A SEREM INCLUÍDOS NA PRÓXIMA CONTA.\\nINFORMAÇÃO DE TRIBUTOS\\nTRIBUTOS BASE DE CÁLCULO ALÍQUOTA VALOR DO IMPOSTO\\nICMS\\nCOFINS\\nPIS/PASEPR$ R$\\nR$\\nR$R$\\nR$763,61 12,00/17,00% 127,09\\n382,57 %%4,61%% 17,63\\n382,57 %%%1,00% 3,83\\nNOTIFICAÇÃO DE SUSPENSÃO DE FORNECIMENTO\\nAté a presente data não registramos o pagamento da(s) seguinte(s) fatura(s):\\nReferência Valor (R$) Vencimento Referência Valor (R$) Vencimento\\nESTA UNIDADE CONSUMIDORA ESTA SUJEITA A SUSPENSAO DE FORNECIMENTO A\\nPARTIR DE 05/03/2024, PELO NAO PAGAMENTO DA FATURA REF. 01/2024 - R$ 357,10.\\nCaso este pagamento ja tenha sido efetuado favor desconsiderar esta notificacao.01/2024 357,10 02/02/2024\\nRESERVADO AO FISCO PERÍODO FISCAL: 16/02/2024\\n9972.F338.1212.648A.E9E9.E8F3.9D8C.1097\\nCelesc Distribuicao S.A\\nAv Itamarati, 160 -  - Florianopolis\\nCNPJ: 08.336.783/0001-90 Insc.Est.: 255266626 EMPRESA\\nCEDENTE SACADO ETAPA/LIVRO VENCIMENTO\\nDATA DOCUMENTO NÚMERO REFERÊNCIA DATA PROCESSAMENTO UNIDADE CONSUMIDORA REFERÊNCIA VALOR COBRADO (R$)CELESC AD CENTRAL THIAGO RAMOS PIAS 09/000337 02/03/2024\\n16/02/2024 FAT-01-202411136312055-5 16/02/2024 41054204 02/2024 587,75\\n23790.34800 90004.948593 02013.613605 1   96430000058775\\nGBCELESC2 (V1.05)'"
      ]
     },
     "execution_count": 41,
     "metadata": {},
     "output_type": "execute_result"
    }
   ],
   "source": [
    "''.join(page1.extract_text(0,90))"
   ]
  },
  {
   "cell_type": "code",
   "execution_count": 33,
   "id": "814e4cec-3cc5-4aee-a4e4-ed21e988eef5",
   "metadata": {},
   "outputs": [],
   "source": [
    "page1TextFormatted = ''.join(page1.extract_text())"
   ]
  },
  {
   "cell_type": "code",
   "execution_count": 34,
   "id": "0a3be43e-cfc0-4d84-a4d0-9adb59f5bb38",
   "metadata": {},
   "outputs": [
    {
     "name": "stdout",
     "output_type": "stream",
     "text": [
      "Segunda Via\n",
      "Segunda Via\n",
      "Segunda ViaCelesc Distribuicao S.A\n",
      "Av Itamarati, 160 -  - Florianopolis\n",
      "CNPJ: 08.336.783/0001-90 Insc.Est.: 255266626Conta de\n",
      "Energia Elétrica\n",
      "EMISSÃO: 16/02/2024 APRES.: 19/02/2024 NOTA FISCAL/CONTA DE ENERGIA ELÉTRICA - SÉRIE ÚNICA: 000.249.514.290 - FAT-01-202411136312055-5 REF.:02/2024\n",
      "............................................................................................................................................................................................................................THIAGO RAMOS PIAS\n",
      "CPF 039.209.749-48\n",
      "SV HELEODORO JOAO FLORINDO, 125\n",
      "FS - BARRA DA LAGOA - FNS - FLORIANOPOLIS - SC - 88061-415\n",
      "Classificação: RESIDENCIAL / CONVENCIONAL / TRIFASICO\n",
      "Tensão nominal ou contratada (V): 220 / 380\n",
      "Limites adequados de tensão (V): 202 a 231\n",
      "Grupo de Tensão: B Tipo de Tarifa: Convencional\n",
      "DADOS DA MEDIÇÃO\n",
      "Equipamento: RG 4069681\n",
      "Unidade de medida: kWh\n",
      "Origem da leitura atual: LIDA\n",
      "Data da leitura anterior: 12/01/2024\n",
      "Data da leitura atual: 14/02/2024\n",
      "Data da próxima leitura: 16/03/2024\n",
      "Número de dias faturados: 33\n",
      "Leitura atual: 24739\n",
      "Leitura anterior: 23332\n",
      "Leitura atual GTP: 14887\n",
      "Leitura anterior GTP: 14089\n",
      "Constante de faturamento: 1,00\n",
      "Consumo medido no mês: 1407\n",
      "Consumo faturado no mês: 1407\n",
      "Fator de potência:\n",
      "HISTÓRICO DE CONSUMO DE ENERGIA ELÉTRICA - kWh\n",
      "Fev/2023\n",
      "1391Mar/2023\n",
      "1404Abr/2023\n",
      "1425Mai/2023\n",
      "1167Jun/2023\n",
      "1205Jul/2023\n",
      "1015Ago/2023\n",
      "1023Set/2023\n",
      "829Out/2023\n",
      "1246Nov/2023\n",
      "1064Dez/2023\n",
      "1109Jan/2024\n",
      "1229\n",
      "HISTÓRICO DE CONSUMO DE ENERGIA ELÉTRICA - kWh - GTP\n",
      "Fev/2023\n",
      "907Mar/2023\n",
      "705Abr/2023\n",
      "891Mai/2023\n",
      "709Jun/2023\n",
      "539Jul/2023\n",
      "454Ago/2023\n",
      "567Set/2023\n",
      "647Out/2023\n",
      "571Nov/2023\n",
      "618Dez/2023\n",
      "582Jan/2024\n",
      "886Nº DA UNIDADE\n",
      "CONSUMIDORA\n",
      "41054204VENCIMENTO\n",
      "02/03/2024\n",
      "ATENDIMENTO AO CLIENTE\n",
      "LIGUE\n",
      "0800 048 0120CONSUMO TOTAL FATURADO\n",
      "1.407 kWh\n",
      "VALOR ATÉ O VENCIMENTO\n",
      "R$ 587,75\n",
      "Mensagens:\n",
      "Demonstrativos de Saldos em kWh referente a Mini e Micro Geração, conforme REN N¿\n",
      "482/2012. Saldo Mês no (TP) Todos os Períodos 0, Saldo Acumulado no (TP) Todos os\n",
      "Períodos 0, Saldo a Expirar Próximo Mês no (TP) Todos os Períodos 0.\n",
      "ESTA UNIDADE CONSUMIDORA ESTA SUJEITA A SUSPENSAO DE FORNECIMENTODados do Faturamento Faturado Tarifa (R$) Valor (R$)\n",
      "Subtotal (R$)\n",
      "Lançamentos e Serviços\n",
      "Subtotal (R$)Consumo Tusd\n",
      "Consumo Tusd\n",
      "Consumo Te\n",
      "Consumo Te\n",
      "Energia Injetada Tusd\n",
      "Energia Injetada Tusd\n",
      "Energia Injetada Te\n",
      "Energia Injetada Te\n",
      "Correcao Monetaria por Atraso 12/2023\n",
      "Correcao Monetaria por Atraso 01/2024\n",
      "Juros Conta Anterior 01/2024\n",
      "Juros Conta Anterior 12/2023\n",
      "Multa Conta Anterior 12/2023\n",
      "Multa Conta Anterior 01/2024\n",
      "Cosip Municipal150\n",
      "1.257\n",
      "150\n",
      "1.257\n",
      "-150\n",
      "-648\n",
      "-150\n",
      "-6480,361533\n",
      "0,383421\n",
      "0,352067\n",
      "0,373437\n",
      "0,318200\n",
      "0,318256\n",
      "0,352067\n",
      "0,37344154,23\n",
      "481,96\n",
      "52,81\n",
      "469,41\n",
      "-47,73\n",
      "-206,23\n",
      "-52,81\n",
      "-241,99\n",
      "3,23\n",
      "0,53\n",
      "1,24\n",
      "6,38\n",
      "8,85\n",
      "6,21\n",
      "51,66509,65\n",
      "78,10\n",
      "Composição do Preço em R$ (Art. 31, Res. 166/05):\n",
      "DISTRIBUICAO\n",
      "173,32ENC. SETORIAIS\n",
      "86,82ENERGIA\n",
      "65,82TRANSMISSAO\n",
      "35,14TRIBUTOS\n",
      "148,55Soma Demonstr.\n",
      "509,65\n",
      "INCIDIRÃO SOBRE A CONTA PAGA APÓS O VENCIMENTO MULTA DE 2%, JUROS DE\n",
      "MORA DE 0,0333% AO DIA (CONF. LEI 10.438/02) E ATUALIZAÇÃO MONETÁRIA COM\n",
      "BASE NO IPCA A SEREM INCLUÍDOS NA PRÓXIMA CONTA.\n",
      "INFORMAÇÃO DE TRIBUTOS\n",
      "TRIBUTOS BASE DE CÁLCULO ALÍQUOTA VALOR DO IMPOSTO\n",
      "ICMS\n",
      "COFINS\n",
      "PIS/PASEPR$ R$\n",
      "R$\n",
      "R$R$\n",
      "R$763,61 12,00/17,00% 127,09\n",
      "382,57 %%4,61%% 17,63\n",
      "382,57 %%%1,00% 3,83\n",
      "NOTIFICAÇÃO DE SUSPENSÃO DE FORNECIMENTO\n",
      "Até a presente data não registramos o pagamento da(s) seguinte(s) fatura(s):\n",
      "Referência Valor (R$) Vencimento Referência Valor (R$) Vencimento\n",
      "ESTA UNIDADE CONSUMIDORA ESTA SUJEITA A SUSPENSAO DE FORNECIMENTO A\n",
      "PARTIR DE 05/03/2024, PELO NAO PAGAMENTO DA FATURA REF. 01/2024 - R$ 357,10.\n",
      "Caso este pagamento ja tenha sido efetuado favor desconsiderar esta notificacao.01/2024 357,10 02/02/2024\n",
      "RESERVADO AO FISCO PERÍODO FISCAL: 16/02/2024\n",
      "9972.F338.1212.648A.E9E9.E8F3.9D8C.1097\n",
      "Celesc Distribuicao S.A\n",
      "Av Itamarati, 160 -  - Florianopolis\n",
      "CNPJ: 08.336.783/0001-90 Insc.Est.: 255266626 EMPRESA\n",
      "CEDENTE SACADO ETAPA/LIVRO VENCIMENTO\n",
      "DATA DOCUMENTO NÚMERO REFERÊNCIA DATA PROCESSAMENTO UNIDADE CONSUMIDORA REFERÊNCIA VALOR COBRADO (R$)CELESC AD CENTRAL THIAGO RAMOS PIAS 09/000337 02/03/2024\n",
      "16/02/2024 FAT-01-202411136312055-5 16/02/2024 41054204 02/2024 587,75\n",
      "23790.34800 90004.948593 02013.613605 1   96430000058775\n",
      "GBCELESC2 (V1.05)\n"
     ]
    }
   ],
   "source": [
    "print(page1TextFormatted)"
   ]
  },
  {
   "cell_type": "code",
   "execution_count": null,
   "id": "a1a5ae1a-8d56-496a-a380-1cf8c0769eff",
   "metadata": {},
   "outputs": [],
   "source": []
  }
 ],
 "metadata": {
  "kernelspec": {
   "display_name": "Python 3 (ipykernel)",
   "language": "python",
   "name": "python3"
  },
  "language_info": {
   "codemirror_mode": {
    "name": "ipython",
    "version": 3
   },
   "file_extension": ".py",
   "mimetype": "text/x-python",
   "name": "python",
   "nbconvert_exporter": "python",
   "pygments_lexer": "ipython3",
   "version": "3.11.4"
  }
 },
 "nbformat": 4,
 "nbformat_minor": 5
}
